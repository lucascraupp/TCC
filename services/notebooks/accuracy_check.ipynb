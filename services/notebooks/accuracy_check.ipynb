{
 "cells": [
  {
   "cell_type": "code",
   "execution_count": 1,
   "metadata": {},
   "outputs": [],
   "source": [
    "import json\n",
    "\n",
    "import pandas as pd\n",
    "\n",
    "PLANTS_PARAM = json.load(open(\"../../resources/solar_plants.json\"))\n",
    "\n",
    "SOLAR_PLANT = \"Hélio\""
   ]
  },
  {
   "cell_type": "code",
   "execution_count": 2,
   "metadata": {},
   "outputs": [
    {
     "name": "stdout",
     "output_type": "stream",
     "text": [
      "Perda estimada = 3.74+(16.77*CSI)+(0.22*Ângulo)+(1.68*CSI^2)-(0.19*CSI*Ângulo)+(0.01*Ângulo^2)\n"
     ]
    }
   ],
   "source": [
    "equation = PLANTS_PARAM[SOLAR_PLANT][\"equation\"]\n",
    "\n",
    "print(\"Perda estimada = \" + equation)\n",
    "\n",
    "loss_table = pd.read_parquet(\n",
    "    \"../../\" + PLANTS_PARAM[SOLAR_PLANT][\"datawarehouse\"][\"loss_table\"]\n",
    ")\n",
    "\n",
    "independent_vars = loss_table[[\"CSI\", \"Angulação (°)\"]]\n",
    "dependent_var = loss_table[\"Perda (%)\"]"
   ]
  },
  {
   "cell_type": "code",
   "execution_count": 3,
   "metadata": {},
   "outputs": [
    {
     "data": {
      "text/html": [
       "<div>\n",
       "<style scoped>\n",
       "    .dataframe tbody tr th:only-of-type {\n",
       "        vertical-align: middle;\n",
       "    }\n",
       "\n",
       "    .dataframe tbody tr th {\n",
       "        vertical-align: top;\n",
       "    }\n",
       "\n",
       "    .dataframe thead th {\n",
       "        text-align: right;\n",
       "    }\n",
       "</style>\n",
       "<table border=\"1\" class=\"dataframe\">\n",
       "  <thead>\n",
       "    <tr style=\"text-align: right;\">\n",
       "      <th></th>\n",
       "      <th>Perda estimada (%)</th>\n",
       "    </tr>\n",
       "  </thead>\n",
       "  <tbody>\n",
       "    <tr>\n",
       "      <th>0</th>\n",
       "      <td>-21.230968</td>\n",
       "    </tr>\n",
       "    <tr>\n",
       "      <th>1</th>\n",
       "      <td>-15.159968</td>\n",
       "    </tr>\n",
       "    <tr>\n",
       "      <th>2</th>\n",
       "      <td>-9.588968</td>\n",
       "    </tr>\n",
       "    <tr>\n",
       "      <th>3</th>\n",
       "      <td>-4.517968</td>\n",
       "    </tr>\n",
       "    <tr>\n",
       "      <th>4</th>\n",
       "      <td>0.053032</td>\n",
       "    </tr>\n",
       "    <tr>\n",
       "      <th>...</th>\n",
       "      <td>...</td>\n",
       "    </tr>\n",
       "    <tr>\n",
       "      <th>8720</th>\n",
       "      <td>35.667148</td>\n",
       "    </tr>\n",
       "    <tr>\n",
       "      <th>8721</th>\n",
       "      <td>40.361648</td>\n",
       "    </tr>\n",
       "    <tr>\n",
       "      <th>8722</th>\n",
       "      <td>45.556148</td>\n",
       "    </tr>\n",
       "    <tr>\n",
       "      <th>8723</th>\n",
       "      <td>51.250648</td>\n",
       "    </tr>\n",
       "    <tr>\n",
       "      <th>8724</th>\n",
       "      <td>57.445148</td>\n",
       "    </tr>\n",
       "  </tbody>\n",
       "</table>\n",
       "<p>8725 rows × 1 columns</p>\n",
       "</div>"
      ],
      "text/plain": [
       "      Perda estimada (%)\n",
       "0             -21.230968\n",
       "1             -15.159968\n",
       "2              -9.588968\n",
       "3              -4.517968\n",
       "4               0.053032\n",
       "...                  ...\n",
       "8720           35.667148\n",
       "8721           40.361648\n",
       "8722           45.556148\n",
       "8723           51.250648\n",
       "8724           57.445148\n",
       "\n",
       "[8725 rows x 1 columns]"
      ]
     },
     "execution_count": 3,
     "metadata": {},
     "output_type": "execute_result"
    }
   ],
   "source": [
    "estimated_loss = pd.DataFrame(columns=[\"Perda estimada (%)\"])\n",
    "\n",
    "for csi, angle in independent_vars.values:\n",
    "    aux_equation = (\n",
    "        equation.replace(\"CSI\", str(csi))\n",
    "        .replace(\"Ângulo\", str(angle))\n",
    "        .replace(\"^\", \"**\")\n",
    "    )\n",
    "\n",
    "    loss = pd.DataFrame({\"Perda estimada (%)\": eval(aux_equation)}, index=[0])\n",
    "\n",
    "    if estimated_loss.empty:\n",
    "        estimated_loss = loss\n",
    "    else:\n",
    "        estimated_loss = pd.concat([estimated_loss, loss], ignore_index=True)\n",
    "\n",
    "estimated_loss"
   ]
  },
  {
   "cell_type": "code",
   "execution_count": 4,
   "metadata": {},
   "outputs": [
    {
     "name": "stdout",
     "output_type": "stream",
     "text": [
      "Precisão média: 85.99%\n"
     ]
    }
   ],
   "source": [
    "compared_loss = pd.concat([dependent_var, estimated_loss], axis=1)\n",
    "\n",
    "diff = round(abs(compared_loss[\"Perda (%)\"] - compared_loss[\"Perda estimada (%)\"]), 2)\n",
    "\n",
    "mean_precision = round(diff.mean(), 2)\n",
    "\n",
    "print(f\"Precisão média: {100 - mean_precision}%\")"
   ]
  }
 ],
 "metadata": {
  "kernelspec": {
   "display_name": ".venv",
   "language": "python",
   "name": "python3"
  },
  "language_info": {
   "codemirror_mode": {
    "name": "ipython",
    "version": 3
   },
   "file_extension": ".py",
   "mimetype": "text/x-python",
   "name": "python",
   "nbconvert_exporter": "python",
   "pygments_lexer": "ipython3",
   "version": "3.10.12"
  }
 },
 "nbformat": 4,
 "nbformat_minor": 2
}
